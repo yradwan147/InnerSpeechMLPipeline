{
 "cells": [
  {
   "cell_type": "code",
   "execution_count": 1,
   "id": "96f8ae73",
   "metadata": {
    "execution": {
     "iopub.execute_input": "2024-06-15T13:35:54.647815Z",
     "iopub.status.busy": "2024-06-15T13:35:54.647416Z",
     "iopub.status.idle": "2024-06-15T13:35:56.237949Z",
     "shell.execute_reply": "2024-06-15T13:35:56.236661Z"
    },
    "papermill": {
     "duration": 1.599727,
     "end_time": "2024-06-15T13:35:56.240768",
     "exception": false,
     "start_time": "2024-06-15T13:35:54.641041",
     "status": "completed"
    },
    "tags": []
   },
   "outputs": [
    {
     "name": "stdout",
     "output_type": "stream",
     "text": [
      "Cloning into 'Inner_Speech_Dataset'...\r\n",
      "remote: Enumerating objects: 276, done.\u001b[K\r\n",
      "remote: Counting objects: 100% (138/138), done.\u001b[K\r\n",
      "remote: Compressing objects: 100% (63/63), done.\u001b[K\r\n",
      "remote: Total 276 (delta 114), reused 86 (delta 75), pack-reused 138\u001b[K\r\n",
      "Receiving objects: 100% (276/276), 115.27 KiB | 5.49 MiB/s, done.\r\n",
      "Resolving deltas: 100% (171/171), done.\r\n"
     ]
    }
   ],
   "source": [
    "!git clone https://github.com/N-Nieto/Inner_Speech_Dataset.git"
   ]
  },
  {
   "cell_type": "code",
   "execution_count": 2,
   "id": "200b2412",
   "metadata": {
    "execution": {
     "iopub.execute_input": "2024-06-15T13:35:56.252837Z",
     "iopub.status.busy": "2024-06-15T13:35:56.252435Z",
     "iopub.status.idle": "2024-06-15T13:35:57.271720Z",
     "shell.execute_reply": "2024-06-15T13:35:57.270481Z"
    },
    "papermill": {
     "duration": 1.028806,
     "end_time": "2024-06-15T13:35:57.274773",
     "exception": false,
     "start_time": "2024-06-15T13:35:56.245967",
     "status": "completed"
    },
    "tags": []
   },
   "outputs": [
    {
     "name": "stdout",
     "output_type": "stream",
     "text": [
      "/kaggle/working\r\n"
     ]
    }
   ],
   "source": [
    "!pwd"
   ]
  },
  {
   "cell_type": "code",
   "execution_count": 3,
   "id": "47826b80",
   "metadata": {
    "execution": {
     "iopub.execute_input": "2024-06-15T13:35:57.286861Z",
     "iopub.status.busy": "2024-06-15T13:35:57.286451Z",
     "iopub.status.idle": "2024-06-15T13:36:10.738928Z",
     "shell.execute_reply": "2024-06-15T13:36:10.737143Z"
    },
    "papermill": {
     "duration": 13.461672,
     "end_time": "2024-06-15T13:36:10.741520",
     "exception": false,
     "start_time": "2024-06-15T13:35:57.279848",
     "status": "completed"
    },
    "tags": []
   },
   "outputs": [
    {
     "name": "stdout",
     "output_type": "stream",
     "text": [
      "Collecting lazypredict\r\n",
      "  Downloading lazypredict-0.2.12-py2.py3-none-any.whl (12 kB)\r\n",
      "Requirement already satisfied: click in /opt/conda/lib/python3.10/site-packages (from lazypredict) (8.1.7)\r\n",
      "Requirement already satisfied: scikit-learn in /opt/conda/lib/python3.10/site-packages (from lazypredict) (1.2.2)\r\n",
      "Requirement already satisfied: pandas in /opt/conda/lib/python3.10/site-packages (from lazypredict) (2.0.3)\r\n",
      "Requirement already satisfied: tqdm in /opt/conda/lib/python3.10/site-packages (from lazypredict) (4.66.1)\r\n",
      "Requirement already satisfied: joblib in /opt/conda/lib/python3.10/site-packages (from lazypredict) (1.3.2)\r\n",
      "Requirement already satisfied: lightgbm in /opt/conda/lib/python3.10/site-packages (from lazypredict) (3.3.2)\r\n",
      "Requirement already satisfied: xgboost in /opt/conda/lib/python3.10/site-packages (from lazypredict) (1.7.6)\r\n",
      "Requirement already satisfied: wheel in /opt/conda/lib/python3.10/site-packages (from lightgbm->lazypredict) (0.40.0)\r\n",
      "Requirement already satisfied: numpy in /opt/conda/lib/python3.10/site-packages (from lightgbm->lazypredict) (1.23.5)\r\n",
      "Requirement already satisfied: scipy in /opt/conda/lib/python3.10/site-packages (from lightgbm->lazypredict) (1.11.2)\r\n",
      "Requirement already satisfied: threadpoolctl>=2.0.0 in /opt/conda/lib/python3.10/site-packages (from scikit-learn->lazypredict) (3.1.0)\r\n",
      "Requirement already satisfied: python-dateutil>=2.8.2 in /opt/conda/lib/python3.10/site-packages (from pandas->lazypredict) (2.8.2)\r\n",
      "Requirement already satisfied: pytz>=2020.1 in /opt/conda/lib/python3.10/site-packages (from pandas->lazypredict) (2023.3)\r\n",
      "Requirement already satisfied: tzdata>=2022.1 in /opt/conda/lib/python3.10/site-packages (from pandas->lazypredict) (2023.3)\r\n",
      "Requirement already satisfied: six>=1.5 in /opt/conda/lib/python3.10/site-packages (from python-dateutil>=2.8.2->pandas->lazypredict) (1.16.0)\r\n",
      "Installing collected packages: lazypredict\r\n",
      "Successfully installed lazypredict-0.2.12\r\n",
      "Note: you may need to restart the kernel to use updated packages.\n"
     ]
    }
   ],
   "source": [
    "pip install lazypredict"
   ]
  },
  {
   "cell_type": "code",
   "execution_count": 4,
   "id": "fbd10646",
   "metadata": {
    "execution": {
     "iopub.execute_input": "2024-06-15T13:36:10.755915Z",
     "iopub.status.busy": "2024-06-15T13:36:10.754368Z",
     "iopub.status.idle": "2024-06-15T13:36:11.772524Z",
     "shell.execute_reply": "2024-06-15T13:36:11.770593Z"
    },
    "papermill": {
     "duration": 1.028198,
     "end_time": "2024-06-15T13:36:11.775359",
     "exception": false,
     "start_time": "2024-06-15T13:36:10.747161",
     "status": "completed"
    },
    "tags": []
   },
   "outputs": [],
   "source": [
    "!cd Inner_Speech_Dataset"
   ]
  },
  {
   "cell_type": "code",
   "execution_count": 5,
   "id": "7027e8f6",
   "metadata": {
    "execution": {
     "iopub.execute_input": "2024-06-15T13:36:11.789918Z",
     "iopub.status.busy": "2024-06-15T13:36:11.789485Z",
     "iopub.status.idle": "2024-06-15T13:36:12.810844Z",
     "shell.execute_reply": "2024-06-15T13:36:12.809338Z"
    },
    "papermill": {
     "duration": 1.032212,
     "end_time": "2024-06-15T13:36:12.813991",
     "exception": false,
     "start_time": "2024-06-15T13:36:11.781779",
     "status": "completed"
    },
    "tags": []
   },
   "outputs": [
    {
     "name": "stdout",
     "output_type": "stream",
     "text": [
      "Inner_Speech_Dataset  __notebook__.ipynb\r\n"
     ]
    }
   ],
   "source": [
    "!ls"
   ]
  },
  {
   "cell_type": "code",
   "execution_count": 6,
   "id": "9bc55573",
   "metadata": {
    "execution": {
     "iopub.execute_input": "2024-06-15T13:36:12.827911Z",
     "iopub.status.busy": "2024-06-15T13:36:12.827489Z",
     "iopub.status.idle": "2024-06-15T13:36:15.320638Z",
     "shell.execute_reply": "2024-06-15T13:36:15.319046Z"
    },
    "papermill": {
     "duration": 2.503748,
     "end_time": "2024-06-15T13:36:15.323604",
     "exception": false,
     "start_time": "2024-06-15T13:36:12.819856",
     "status": "completed"
    },
    "tags": []
   },
   "outputs": [],
   "source": [
    "#@title Imports \n",
    "import os\n",
    "import mne \n",
    "import pickle\n",
    "import random\n",
    "import warnings\n",
    "import numpy as np\n",
    "import matplotlib.pyplot as plt\n",
    "\n",
    "# from google.colab import drive, files\n",
    "\n",
    "from Inner_Speech_Dataset.Python_Processing.Data_extractions import  extract_data_from_subject\n",
    "from Inner_Speech_Dataset.Python_Processing.Data_processing import  select_time_window, transform_for_classificator, split_trial_in_time\n",
    "\n",
    "np.random.seed(23)\n",
    "\n",
    "mne.set_log_level(verbose='warning') #to avoid info at terminal\n",
    "warnings.filterwarnings(action = \"ignore\", category = DeprecationWarning ) \n",
    "warnings.filterwarnings(action = \"ignore\", category = FutureWarning ) "
   ]
  },
  {
   "cell_type": "code",
   "execution_count": 7,
   "id": "332cff36",
   "metadata": {
    "execution": {
     "iopub.execute_input": "2024-06-15T13:36:15.339422Z",
     "iopub.status.busy": "2024-06-15T13:36:15.338103Z",
     "iopub.status.idle": "2024-06-15T13:36:21.499131Z",
     "shell.execute_reply": "2024-06-15T13:36:21.497811Z"
    },
    "papermill": {
     "duration": 6.172272,
     "end_time": "2024-06-15T13:36:21.501979",
     "exception": false,
     "start_time": "2024-06-15T13:36:15.329707",
     "status": "completed"
    },
    "tags": []
   },
   "outputs": [],
   "source": [
    "from sklearn.ensemble import ExtraTreesClassifier, AdaBoostClassifier\n",
    "from sklearn.tree import ExtraTreeClassifier\n",
    "from sklearn.metrics import f1_score, accuracy_score, balanced_accuracy_score\n",
    "from sklearn.model_selection import train_test_split\n",
    "from sklearn.compose import ColumnTransformer\n",
    "from sklearn.pipeline import Pipeline\n",
    "from sklearn.impute import SimpleImputer, MissingIndicator\n",
    "from sklearn.preprocessing import StandardScaler, OneHotEncoder, OrdinalEncoder\n",
    "from lazypredict.Supervised import LazyClassifier\n",
    "from sklearn.model_selection import GridSearchCV\n",
    "import joblib\n",
    "import pandas as pd\n",
    "import matplotlib.pyplot as plt\n",
    "from tqdm import tqdm\n",
    "\n",
    "def create_preprocessor(X_train, X_test):\n",
    "\n",
    "    def get_card_split(df, cols, n=11):\n",
    "        \"\"\"\n",
    "        Splits categorical columns into 2 lists based on cardinality (i.e # of unique values)\n",
    "        Parameters\n",
    "        ----------\n",
    "        df : Pandas DataFrame\n",
    "            DataFrame from which the cardinality of the columns is calculated.\n",
    "        cols : list-like\n",
    "            Categorical columns to list\n",
    "        n : int, optional (default=11)\n",
    "            The value of 'n' will be used to split columns.\n",
    "        Returns\n",
    "        -------\n",
    "        card_low : list-like\n",
    "            Columns with cardinality < n\n",
    "        card_high : list-like\n",
    "            Columns with cardinality >= n\n",
    "        \"\"\"\n",
    "        cond = df[cols].nunique() > n\n",
    "        card_high = cols[cond]\n",
    "        card_low = cols[~cond]\n",
    "        return card_low, card_high\n",
    "\n",
    "    if isinstance(X_train, np.ndarray):\n",
    "        X_train = pd.DataFrame(X_train)\n",
    "        X_test = pd.DataFrame(X_test)\n",
    "    \n",
    "    numeric_features = X_train.select_dtypes(include=[np.number]).columns\n",
    "    categorical_features = X_train.select_dtypes(include=[\"object\"]).columns\n",
    "\n",
    "    categorical_low, categorical_high = get_card_split(\n",
    "        X_train, categorical_features\n",
    "    )\n",
    "\n",
    "    numeric_transformer = Pipeline(\n",
    "        steps=[(\"imputer\", SimpleImputer(strategy=\"mean\")), (\"scaler\", StandardScaler())]\n",
    "    )\n",
    "\n",
    "    categorical_transformer_low = Pipeline(\n",
    "        steps=[\n",
    "            (\"imputer\", SimpleImputer(strategy=\"constant\", fill_value=\"missing\")),\n",
    "            (\"encoding\", OneHotEncoder(handle_unknown=\"ignore\", sparse=False)),\n",
    "        ]\n",
    "    )\n",
    "\n",
    "    categorical_transformer_high = Pipeline(\n",
    "        steps=[\n",
    "            (\"imputer\", SimpleImputer(strategy=\"constant\", fill_value=\"missing\")),\n",
    "            # 'OrdianlEncoder' Raise a ValueError when encounters an unknown value. Check https://github.com/scikit-learn/scikit-learn/pull/13423\n",
    "            (\"encoding\", OrdinalEncoder()),\n",
    "        ]\n",
    "    )\n",
    "\n",
    "    preprocessor = ColumnTransformer(\n",
    "                transformers=[\n",
    "                    (\"numeric\", numeric_transformer, numeric_features),\n",
    "                    (\"categorical_low\", categorical_transformer_low, categorical_low),\n",
    "                    (\"categorical_high\", categorical_transformer_high, categorical_high),\n",
    "                ]\n",
    "            )\n",
    "    \n",
    "    return preprocessor\n",
    "\n",
    "\n",
    "def train_brute_search_extraTree(X_train, y_train, X_test, y_test, num_iter = 1000):\n",
    "    best_acc = 0\n",
    "    best_model = None\n",
    "\n",
    "    accs = []\n",
    "\n",
    "    for i in tqdm(range(num_iter)):\n",
    "        preprocessor = create_preprocessor(X_train, X_test)\n",
    "        pipe = Pipeline(steps=[(\"preprocessor\", preprocessor), (\"classifier\", ExtraTreeClassifier())])\n",
    "        pipe.fit(X_train, y_train)\n",
    "\n",
    "        train_preds = pipe.predict(X_train)\n",
    "        test_preds = pipe.predict(X_test)\n",
    "\n",
    "#         test_macrof1 = f1_score(y_test, test_preds, average='macro')\n",
    "        test_acc = accuracy_score(y_test, test_preds)\n",
    "        accs.append(test_acc)\n",
    "\n",
    "        if test_acc > best_acc:\n",
    "            best_acc = test_acc\n",
    "            best_model = pipe\n",
    "    \n",
    "    \n",
    "    plt.hist(accs)\n",
    "    plt.show()\n",
    "    \n",
    "    # Save the best model\n",
    "    joblib.dump(best_model, 'best_model.pkl')\n",
    "    train_preds = best_model.predict(X_train)\n",
    "    test_preds = best_model.predict(X_test)\n",
    "    \n",
    "    acc = accuracy_score(y_test, test_preds)\n",
    "    \n",
    "    print(\"-\"*50)\n",
    "    print(\"Training Scores:\\n\")\n",
    "    print(\"Accuracy: \",accuracy_score(y_train, train_preds))\n",
    "    print(\"Balanced Accuracy: \",balanced_accuracy_score(y_train, train_preds))\n",
    "    print(\"Micro F1-Score: \",f1_score(y_train, train_preds, average='micro'))\n",
    "    print(\"Macro F1-Score: \", f1_score(y_train, train_preds, average='macro'))\n",
    "\n",
    "    print(\"\\n\\nTesting Scores:\\n\")\n",
    "    print(\"Accuracy: \", acc)\n",
    "    print(\"Balanced Accuracy: \",balanced_accuracy_score(y_test, test_preds))\n",
    "    print(\"Micro F1-Score: \",f1_score(y_test, test_preds, average='micro'))\n",
    "    print(\"Macro F1-Score: \",f1_score(y_test, test_preds, average='macro'))\n",
    "    \n",
    "    return best_model"
   ]
  },
  {
   "cell_type": "code",
   "execution_count": 8,
   "id": "d87249c9",
   "metadata": {
    "execution": {
     "iopub.execute_input": "2024-06-15T13:36:21.515161Z",
     "iopub.status.busy": "2024-06-15T13:36:21.514794Z",
     "iopub.status.idle": "2024-06-15T13:36:21.520198Z",
     "shell.execute_reply": "2024-06-15T13:36:21.519123Z"
    },
    "papermill": {
     "duration": 0.014837,
     "end_time": "2024-06-15T13:36:21.522648",
     "exception": false,
     "start_time": "2024-06-15T13:36:21.507811",
     "status": "completed"
    },
    "tags": []
   },
   "outputs": [],
   "source": [
    "### Hyperparameters\n",
    "\n",
    "# The root dir have to point to the folder that cointains the database\n",
    "root_dir = \"/kaggle/input/eeg-hiv-dataset/Data\"\n",
    "\n",
    "# Data Type\n",
    "datatype = \"EEG\"\n",
    "\n",
    "# Sampling rate\n",
    "fs = 256\n",
    "\n",
    "# Select the useful par of each trial. Time in seconds\n",
    "t_start = 1.5\n",
    "t_end = 3.5\n",
    "\n",
    "# Subject number\n",
    "# N_S = 1   #[1 to 10]"
   ]
  },
  {
   "cell_type": "code",
   "execution_count": 9,
   "id": "34ff419b",
   "metadata": {
    "execution": {
     "iopub.execute_input": "2024-06-15T13:36:21.536585Z",
     "iopub.status.busy": "2024-06-15T13:36:21.536143Z",
     "iopub.status.idle": "2024-06-15T13:36:21.662437Z",
     "shell.execute_reply": "2024-06-15T13:36:21.661035Z"
    },
    "papermill": {
     "duration": 0.136844,
     "end_time": "2024-06-15T13:36:21.665207",
     "exception": false,
     "start_time": "2024-06-15T13:36:21.528363",
     "status": "completed"
    },
    "tags": []
   },
   "outputs": [],
   "source": [
    "import numpy as np\n",
    "import pywt\n",
    "from sklearn.model_selection import GroupShuffleSplit\n",
    "\n",
    "def apply_CAR_and_extract_DWT(X_train, X_test, wavelet='db4', level=5):\n",
    "    \"\"\"\n",
    "    Applies Common Average Referencing (CAR) and extracts the final level approximation coefficients\n",
    "    from DWT for both training and testing datasets.\n",
    "    \n",
    "    Parameters:\n",
    "    - X_train, X_test: NumPy arrays of shape (experiments, channels, time_steps)\n",
    "    - wavelet: Wavelet type as a string\n",
    "    - level: Decomposition level\n",
    "    \n",
    "    Returns:\n",
    "    - A tuple containing two pandas DataFrames for the transformed training and testing data respectively\n",
    "    \"\"\"\n",
    "    def process_data(data):\n",
    "        # Apply CAR\n",
    "        mean_signal = np.mean(data, axis=1, keepdims=True)\n",
    "        car_data = data - mean_signal\n",
    "        \n",
    "        # Extract DWT final approximation coefficients\n",
    "        num_experiments, num_channels, _ = car_data.shape\n",
    "        approx_coeffs = []\n",
    "        for i in range(num_experiments):\n",
    "            experiment_coeffs = []\n",
    "            for j in range(num_channels):\n",
    "                coeffs = pywt.wavedec(car_data[i, j], wavelet, level=level)\n",
    "                final_approx = coeffs[-1]\n",
    "                experiment_coeffs.append(final_approx)\n",
    "            approx_coeffs.append(experiment_coeffs)\n",
    "        \n",
    "        # Find the max length to standardize the array size\n",
    "        max_length = max(max(len(ch) for ch in exp) for exp in approx_coeffs)\n",
    "        \n",
    "        # Standardize the array size\n",
    "        standardized_coeffs = np.zeros((num_experiments, num_channels, max_length))\n",
    "        for i, exp in enumerate(approx_coeffs):\n",
    "            for j, ch in enumerate(exp):\n",
    "                standardized_coeffs[i, j, :len(ch)] = ch\n",
    "        \n",
    "        # Reshape and convert to DataFrame\n",
    "        standardized_coeffs_reshaped = standardized_coeffs.reshape(standardized_coeffs.shape[0], -1)\n",
    "        columns = [f\"dwt_{i+1}\" for i in range(standardized_coeffs_reshaped.shape[1])]\n",
    "        return pd.DataFrame(standardized_coeffs_reshaped, columns=columns)\n",
    "    \n",
    "    # Process both training and testing data\n",
    "    train_df = process_data(X_train)\n",
    "    test_df = process_data(X_test)\n",
    "    \n",
    "    return train_df, test_df\n",
    "\n",
    "\n",
    "# PCA and ICA functions\n",
    "\n",
    "\n",
    "\n",
    "import pandas as pd\n",
    "from sklearn.decomposition import PCA\n",
    "from sklearn.decomposition import FastICA\n",
    "\n",
    "def apply_PCA_flexible(X_train, X_test, y_train, y_test, n_components=None):\n",
    "    \"\"\"\n",
    "    Apply PCA to EEG data (X_train and X_test) treating channels and time steps as features for each experiment.\n",
    "    Fits PCA on X_train and applies the transformation to both X_train and X_test.\n",
    "    Maintains the experiment axis, flexible on other dimensions based on n_components.\n",
    "\n",
    "    Parameters:\n",
    "    - X_train, X_test: NumPy arrays of shape (experiments, channels, time_steps)\n",
    "    - y_train, y_test: NumPy arrays of the labels associated with X_train and X_test.\n",
    "    - n_components: Number of principal components to keep. If None, all components are kept.\n",
    "\n",
    "    Returns:\n",
    "    - pca_train_df, pca_test_df: Transformed data as pandas DataFrames with shape \n",
    "                                 (experiments, n_components) if n_components is specified, \n",
    "                                 else shape will vary based on PCA transformation.\n",
    "    \"\"\"\n",
    "    num_experiments_train = X_train.shape[0]\n",
    "    num_experiments_test = X_test.shape[0]\n",
    "    # Flatten channels and time_steps for PCA input\n",
    "    X_train_reshaped = X_train.reshape(num_experiments_train, -1)  # Now (experiments, channels*time_steps)\n",
    "    X_test_reshaped = X_test.reshape(num_experiments_test, -1)\n",
    "\n",
    "    # Apply PCA\n",
    "    pca = PCA(n_components=n_components)\n",
    "    pca.fit(X_train_reshaped)  # Fit on training data only\n",
    "\n",
    "    # Transform both training and testing data\n",
    "    pca_train_data = pca.transform(X_train_reshaped)  # Transformed training data\n",
    "    pca_test_data = pca.transform(X_test_reshaped)  # Transformed testing data\n",
    "\n",
    "    # Generate column names based on the number of components\n",
    "    columns = [f\"pca_{i+1}\" for i in range(pca_train_data.shape[1])]\n",
    "    \n",
    "    # Create DataFrames for both training and testing transformed data\n",
    "    pca_train_df = pd.DataFrame(pca_train_data, columns=columns)\n",
    "    pca_test_df = pd.DataFrame(pca_test_data, columns=columns)\n",
    "    \n",
    "    return pca_train_df, pca_test_df\n",
    "\n",
    "\n",
    "\n",
    "def apply_ICA_and_flatten(X_train, X_test, y_train, y_test, n_components=2):\n",
    "    \"\"\"\n",
    "    Apply ICA to each experiment in the training data and flatten the output to create feature vectors.\n",
    "    Fit ICA on X_train and apply the transformation to both X_train and X_test.\n",
    "    \n",
    "    Parameters:\n",
    "    - X_train, X_test: NumPy arrays of shape (experiments, channels, time_steps)\n",
    "    - y_train, y_test: NumPy arrays of the labels associated with X_train and X_test.\n",
    "    - n_components: Number of ICA components to extract. If None, all components are used.\n",
    "    \n",
    "    Returns:\n",
    "    - ica_train_df, ica_test_df: Transformed and flattened data as pandas DataFrames,\n",
    "                                 where each row is a flattened feature vector for an experiment.\n",
    "    \"\"\"\n",
    "    # Suppress warnings\n",
    "    warnings.filterwarnings(\"ignore\")\n",
    "    \n",
    "    # Prepare the training data for ICA: shape should be (n_samples, n_features)\n",
    "    num_experiments_train, num_channels, num_time_steps = X_train.shape\n",
    "    num_experiments_test = X_test.shape[0]\n",
    "    \n",
    "    # Reshape and apply ICA on training data\n",
    "    X_train_reshaped = X_train.reshape(num_experiments_train, num_channels * num_time_steps)\n",
    "    ica = FastICA(n_components=n_components, random_state=0)\n",
    "    ica.fit(X_train_reshaped)  # Fit on training data only\n",
    "    \n",
    "    # Transform both training and testing data using the learned ICA components\n",
    "    ica_train_data = ica.transform(X_train_reshaped)\n",
    "    X_test_reshaped = X_test.reshape(num_experiments_test, num_channels * num_time_steps)\n",
    "    ica_test_data = ica.transform(X_test_reshaped)\n",
    "    \n",
    "    # Flatten the components to form feature vectors and create DataFrames\n",
    "    columns = [f\"ica_{i+1}\" for i in range(ica_train_data.shape[1])]\n",
    "    ica_train_df = pd.DataFrame(ica_train_data, columns=columns)\n",
    "    ica_test_df = pd.DataFrame(ica_test_data, columns=columns)\n",
    "    \n",
    "    return ica_train_df, ica_test_df\n",
    "\n",
    "\n",
    "\n",
    "# CSP one vs all\n",
    "\n",
    "\n",
    "def compute_covariance_matrix(data):\n",
    "    \"\"\"\n",
    "    Compute the covariance matrix for each trial, then average.\n",
    "    data: numpy array of shape (trials, channels, time_steps)\n",
    "    \"\"\"\n",
    "    covariances = [np.cov(trial, rowvar=False) for trial in data]\n",
    "    return np.mean(covariances, axis=0)\n",
    "\n",
    "def compute_csp_for_one_vs_all(data, labels, target_class):\n",
    "    \"\"\"\n",
    "    Compute CSP filters for one class against all others.\n",
    "    data: numpy array of shape (experiments, channels, time_steps)\n",
    "    labels: numpy array of shape (experiments,) indicating class for each experiment\n",
    "    target_class: the class to compute CSP filters for against all other classes\n",
    "    \"\"\"\n",
    "    # Data for the target class\n",
    "    target_data = data[labels == target_class]\n",
    "    \n",
    "    # Data for all other classes\n",
    "    other_data = data[labels != target_class]\n",
    "    \n",
    "    # Compute averaged covariance matrices\n",
    "    cov_target = compute_covariance_matrix(target_data)\n",
    "    cov_others = compute_covariance_matrix(other_data)\n",
    "    \n",
    "    # Solve the eigenvalue problem\n",
    "    eigenvalues, eigenvectors = np.linalg.eig(np.linalg.pinv(cov_others).dot(cov_target))\n",
    "    \n",
    "    # Sort eigenvectors by eigenvalues in descending order\n",
    "    idx = eigenvalues.argsort()[::-1]   \n",
    "    eigenvectors = eigenvectors[:,idx]\n",
    "    \n",
    "    return eigenvectors\n",
    "\n",
    "def apply_csp_filters_and_extract_features(data, csp_filters):\n",
    "    \"\"\"\n",
    "    Apply CSP filters to the data and extract features.\n",
    "    \"\"\"\n",
    "    # Apply filters and extract log-variance as features\n",
    "    transformed = np.dot(data, csp_filters)\n",
    "    features = np.log(np.var(transformed, axis=2))\n",
    "    return features\n",
    "\n",
    "\n",
    "# CSP pairwise\n",
    "\n",
    "\n",
    "def compute_csp_for_two_classes(data_class1, data_class2):\n",
    "    \"\"\"\n",
    "    Compute CSP filters for two classes.\n",
    "    \"\"\"\n",
    "    # Compute averaged covariance matrices for each class\n",
    "    cov1 = compute_covariance_matrix(data_class1)\n",
    "    cov2 = compute_covariance_matrix(data_class2)\n",
    "    \n",
    "    # Correct approach: Solve the generalized eigenvalue problem\n",
    "    eigenvalues, eigenvectors = np.linalg.eig(np.linalg.pinv(cov2).dot(cov1))\n",
    "    \n",
    "    # Sort eigenvectors by eigenvalues in descending order\n",
    "    idx = eigenvalues.argsort()[::-1]   \n",
    "    eigenvectors = eigenvectors[:,idx]\n",
    "    \n",
    "    return eigenvectors\n",
    "\n",
    "def apply_csp(data, labels):\n",
    "    \"\"\"\n",
    "    Apply CSP for multiple classes identified in `labels`.\n",
    "    data: numpy array of shape (experiments, channels, time_steps)\n",
    "    labels: numpy array of shape (experiments,) indicating class for each experiment\n",
    "    \"\"\"\n",
    "    classes = np.unique(labels)\n",
    "    csp_filters = {}\n",
    "    \n",
    "    for i in range(len(classes)):\n",
    "        for j in range(i+1, len(classes)):\n",
    "            class_i_data = data[labels == classes[i]]\n",
    "            class_j_data = data[labels == classes[j]]\n",
    "            \n",
    "            filters = compute_csp_for_two_classes(class_i_data, class_j_data)\n",
    "            csp_filters[f'{classes[i]}_vs_{classes[j]}'] = filters\n",
    "            \n",
    "    # Here, `csp_filters` contains the CSP filters for each class pair\n",
    "    return csp_filters\n",
    "\n",
    "\n",
    "def apply_csp_filters(experiment_data, filters):\n",
    "    \"\"\"\n",
    "    Apply CSP filters to the experiment data and return transformed features.\n",
    "    experiment_data: numpy array of shape (1, channels, time_steps)\n",
    "    filters: CSP filters for a class pair\n",
    "    \"\"\"\n",
    "    # Example transformation: project the data onto the CSP space\n",
    "    # and return the log-variance of the projections as features\n",
    "    transformed = np.dot(experiment_data, filters)\n",
    "    features = np.log(np.var(transformed, axis=2))\n",
    "    return features\n",
    "def extract_all_features(X_data, csp_filters):\n",
    "    all_features = []\n",
    "    for experiment_idx in range(X_data.shape[0]):\n",
    "        experiment_features = []\n",
    "        for key, filters in csp_filters.items():\n",
    "            # Directly slice the experiment data for the current experiment\n",
    "            experiment_data = X_data[experiment_idx:experiment_idx+1, :, :]\n",
    "            \n",
    "            # Apply CSP filters to this slice and extract features\n",
    "            features = apply_csp_filters(experiment_data, filters)\n",
    "            experiment_features.append(features.flatten())\n",
    "        \n",
    "        # Concatenate features from all class pairs for the current experiment\n",
    "        all_features.append(np.concatenate(experiment_features))\n",
    "    \n",
    "    # Convert the list of features to a NumPy array\n",
    "    return np.array(all_features)\n",
    "\n",
    "from sklearn.model_selection import GroupShuffleSplit\n",
    "\n",
    "# flags = {'original':False,'pca': True, 'ica':True, 'dwt':True, 'onevall_csp': True,'pairwise_csp': True}\n",
    "\n",
    "\n",
    "def preprocessing_wrapper(X,Y, flags, pca_n_components=None, ica_n_components=None, dwt_wavelet='db4', dwt_level=5, test_size=0.3 ,shuffle= True, random_state =42):\n",
    "    \n",
    "    dfs_train_list = []\n",
    "    dfs_test_list = []\n",
    "    \n",
    "    print(flags)\n",
    "    \n",
    "#     X_train, X_test, y_train, y_test = train_test_split(X, Y, test_size=test_size, random_state=42, stratify=Y)\n",
    "    gss = GroupShuffleSplit(n_splits=1, train_size=0.8, test_size=0.2, random_state=42)\n",
    "\n",
    "    # Generate indices to split data into training and test set\n",
    "    train_idx, test_idx = next(gss.split(X, Y, groups))\n",
    "\n",
    "    # Create the training and test sets using the generated indices\n",
    "    X_train, X_test = X[train_idx], X[test_idx]\n",
    "    y_train, y_test = Y[train_idx], Y[test_idx]\n",
    "\n",
    "    # Optionally, to verify group separation\n",
    "    groups_train, groups_test = groups[train_idx], groups[test_idx]\n",
    "    assert set(groups_train).isdisjoint(set(groups_test)), \"There should be no overlap between training and test groups.\"\n",
    "    \n",
    "    for flag, check in flags.items():\n",
    "        \n",
    "        if flag == 'original' and check:\n",
    "            columns = [f\"original_{i+1}\" for i in range(X_train.reshape(X_train.shape[0],-1).shape[1])]\n",
    "            original_train = pd.DataFrame(X_train.reshape(X_train.shape[0],-1), columns=columns)\n",
    "            original_test = pd.DataFrame(X_test.reshape(X_test.shape[0],-1), columns=columns)\n",
    "            dfs_train_list.append(original_train)\n",
    "            dfs_test_list.append(original_test)\n",
    "        \n",
    "        if flag == 'dwt' and check:\n",
    "            print(\"---Working on Discrete Wavelet Transform---\")\n",
    "            dwt_train, dwt_test = apply_CAR_and_extract_DWT(X_train, X_test, wavelet=dwt_wavelet, level=dwt_level)\n",
    "            dfs_train_list.append(dwt_train)\n",
    "            dfs_test_list.append(dwt_test)\n",
    "        \n",
    "        if flag == 'pca' and check:\n",
    "            print(\"---Working on principle Component Analysis---\")\n",
    "            pca_train, pca_test = apply_PCA_flexible(X_train, X_test, y_train, y_test, n_components=pca_n_components)\n",
    "            dfs_train_list.append(pca_train)\n",
    "            dfs_test_list.append(pca_test)\n",
    "              \n",
    "        if flag == 'ica' and check:\n",
    "            print(\"---Working on Independent Component Analysis---\")\n",
    "            ica_train, ica_test = apply_ICA_and_flatten(X_train, X_test, y_train, y_test, n_components=ica_n_components)\n",
    "            dfs_train_list.append(ica_train)\n",
    "            dfs_test_list.append(ica_test)\n",
    "        \n",
    "        if flag == 'onevall_csp' and check:\n",
    "            print(\"---Working on Common Spatial Pattern One Vs All---\")\n",
    "            classes = np.unique(y_train)\n",
    "            train_features = []\n",
    "            test_features = []\n",
    "\n",
    "            for target_class in classes:\n",
    "                csp_filters = compute_csp_for_one_vs_all(X_train, y_train.copy(), target_class)\n",
    "                \n",
    "                train_class_features = apply_csp_filters_and_extract_features(X_train.copy(), csp_filters)\n",
    "                train_features.append(train_class_features)\n",
    "                \n",
    "                test_class_features = apply_csp_filters_and_extract_features(X_test.copy(), csp_filters)\n",
    "                test_features.append(test_class_features)\n",
    "                \n",
    "            onevall_csp_train = np.concatenate(train_features, axis=1)\n",
    "            onevall_csp_test = np.concatenate(test_features, axis=1)\n",
    "            \n",
    "            columns = [f\"csp_onevall_{i+1}\" for i in range(onevall_csp_train.shape[1])]\n",
    "            onevall_csp_train = pd.DataFrame(onevall_csp_train, columns=columns)\n",
    "            onevall_csp_test = pd.DataFrame(onevall_csp_test, columns=columns)\n",
    "#             onevall_csp_df= pd.DataFrame(np.concatenate([onevall_csp_train, onevall_csp_test], axis=0), columns=columns) # add train and test into df\n",
    "            dfs_train_list.append(onevall_csp_train)\n",
    "            dfs_test_list.append(onevall_csp_test) \n",
    "            \n",
    "        if flag == 'pairwise_csp' and check:\n",
    "            print(\"---Working on Common Spatial Pattern Pairwise---\")            \n",
    "            csp_filters = apply_csp(X_train.copy(), y_train.copy())\n",
    "\n",
    "            pairwise_csp_train = extract_all_features(X_train.copy(), csp_filters)\n",
    "            pairwise_csp_test  = extract_all_features(X_test.copy(), csp_filters)\n",
    "            \n",
    "            columns = [f\"pairwise_csp_{i+1}\" for i in range(pairwise_csp_train.shape[1])]\n",
    "            pairwise_csp_train = pd.DataFrame(pairwise_csp_train, columns=columns)\n",
    "            pairwise_csp_test = pd.DataFrame(pairwise_csp_test, columns=columns)\n",
    "#             pairwise_csp_df= pd.DataFrame(np.concatenate([pairwise_csp_train,pairwise_csp_test], axis=0), columns=columns)\n",
    "            dfs_train_list.append(pairwise_csp_train)\n",
    "            dfs_test_list.append(pairwise_csp_test)\n",
    "            \n",
    "    # Concatenate all feature DataFrames horizontally for both training and testing datasets\n",
    "    X_train_joined = pd.concat(dfs_train_list, axis=1)\n",
    "    X_test_joined = pd.concat(dfs_test_list, axis=1)\n",
    "    \n",
    "    # note shuffle here is off to make sure data splitted in csp in train or test are going to be same in here \n",
    "    return X_train_joined, X_test_joined, y_train, y_test"
   ]
  },
  {
   "cell_type": "code",
   "execution_count": 10,
   "id": "7649aaec",
   "metadata": {
    "execution": {
     "iopub.execute_input": "2024-06-15T13:36:21.679140Z",
     "iopub.status.busy": "2024-06-15T13:36:21.678365Z",
     "iopub.status.idle": "2024-06-15T13:36:21.691262Z",
     "shell.execute_reply": "2024-06-15T13:36:21.690034Z"
    },
    "papermill": {
     "duration": 0.02265,
     "end_time": "2024-06-15T13:36:21.693720",
     "exception": false,
     "start_time": "2024-06-15T13:36:21.671070",
     "status": "completed"
    },
    "tags": []
   },
   "outputs": [],
   "source": [
    "from lazypredict.Supervised import LazyClassifier\n",
    "from sklearn.model_selection import train_test_split\n",
    "from sklearn.metrics import accuracy_score, balanced_accuracy_score, f1_score\n",
    "\n",
    "def preprocessing_tester(X, Y, subject_num):\n",
    "\n",
    "    flags_list = [{'original':False,'pca': True, 'ica':False, 'dwt':False, 'onevall_csp': False,'pairwise_csp': False},\n",
    "                  {'original':False,'pca': False, 'ica':True, 'dwt':False, 'onevall_csp': False,'pairwise_csp': False},\n",
    "                  {'original':False,'pca': False, 'ica':False, 'dwt':True, 'onevall_csp': False,'pairwise_csp': False},\n",
    "                  {'original':False,'pca': False, 'ica':False, 'dwt':False, 'onevall_csp': True,'pairwise_csp': False},\n",
    "                  {'original':False,'pca': False, 'ica':False, 'dwt':False, 'onevall_csp': False,'pairwise_csp': True}]\n",
    "\n",
    "    for i, flags in enumerate(flags_list):\n",
    "        statistical = []\n",
    "        for j in range(2):\n",
    "            X_train, X_test, y_train, y_test = preprocessing_wrapper(X,Y,flags)\n",
    "            print(X_train.shape, X_test.shape)\n",
    "            model = train_brute_search_extraTree(X_train, y_train, X_test, y_test, num_iter = 2500)\n",
    "            model_name = \"BruteExtraTree\"\n",
    "\n",
    "            # Initialize lists to store metrics\n",
    "            train_metrics = []\n",
    "            test_metrics = []\n",
    "\n",
    "\n",
    "            # Training data metrics\n",
    "            y_train_pred = model.predict(X_train)\n",
    "            accuracy_train = accuracy_score(y_train, y_train_pred)\n",
    "            train_metrics.append([model_name, accuracy_train])\n",
    "\n",
    "            # Test data metrics\n",
    "            y_test_pred = model.predict(X_test)\n",
    "            accuracy_test = accuracy_score(y_test, y_test_pred)\n",
    "            test_metrics.append([model_name, accuracy_test])\n",
    "\n",
    "            # Create DataFrames for training and test metrics\n",
    "            train_df = pd.DataFrame(train_metrics, columns=[\"Model\", \"Accuracy (Training)\"])\n",
    "            test_df = pd.DataFrame(test_metrics, columns=[\"Model\", \"Accuracy (Test)\"])\n",
    "\n",
    "            # Merge the two DataFrames on 'Model'\n",
    "            merged_df = pd.merge(train_df, test_df, on='Model')\n",
    "\n",
    "            statistical.append(merged_df)\n",
    "\n",
    "        # Combine all DataFrames into a single DataFrame\n",
    "        combined_df = pd.concat(statistical, ignore_index=True)\n",
    "\n",
    "        # Group by Model and calculate mean for all other columns\n",
    "        average_df = combined_df.groupby('Model').mean().reset_index()\n",
    "\n",
    "        sorted_df = average_df.sort_values(by=\"Accuracy (Test)\", ascending=False)\n",
    "\n",
    "        # Preview the sorted DataFrame\n",
    "        sorted_df.to_csv(subject_num+ '_' + str(i)+'.csv')"
   ]
  },
  {
   "cell_type": "code",
   "execution_count": 11,
   "id": "03f28709",
   "metadata": {
    "execution": {
     "iopub.execute_input": "2024-06-15T13:36:21.707292Z",
     "iopub.status.busy": "2024-06-15T13:36:21.706878Z",
     "iopub.status.idle": "2024-06-15T22:32:06.823821Z",
     "shell.execute_reply": "2024-06-15T22:32:06.822106Z"
    },
    "papermill": {
     "duration": 32145.127125,
     "end_time": "2024-06-15T22:32:06.826636",
     "exception": false,
     "start_time": "2024-06-15T13:36:21.699511",
     "status": "completed"
    },
    "tags": []
   },
   "outputs": [
    {
     "name": "stdout",
     "output_type": "stream",
     "text": [
      "200\n",
      "240\n",
      "180\n",
      "240\n",
      "240\n",
      "216\n",
      "240\n",
      "200\n",
      "240\n",
      "240\n",
      "{'original': False, 'pca': True, 'ica': False, 'dwt': False, 'onevall_csp': False, 'pairwise_csp': False}\n",
      "---Working on principle Component Analysis---\n",
      "(1756, 1756) (480, 1756)\n"
     ]
    },
    {
     "name": "stderr",
     "output_type": "stream",
     "text": [
      "100%|██████████| 2500/2500 [12:33<00:00,  3.32it/s]\n"
     ]
    },
    {
     "data": {
      "image/png": "[encoded data removed]",
      "text/plain": [
       "<Figure size 640x480 with 1 Axes>"
      ]
     },
     "metadata": {},
     "output_type": "display_data"
    },
    {
     "name": "stdout",
     "output_type": "stream",
     "text": [
      "--------------------------------------------------\n",
      "Training Scores:\n",
      "\n",
      "Accuracy:  1.0\n",
      "Balanced Accuracy:  1.0\n",
      "Micro F1-Score:  1.0\n",
      "Macro F1-Score:  1.0\n",
      "\n",
      "\n",
      "Testing Scores:\n",
      "\n",
      "Accuracy:  0.31666666666666665\n",
      "Balanced Accuracy:  0.31666666666666665\n",
      "Micro F1-Score:  0.31666666666666665\n",
      "Macro F1-Score:  0.3136804933466333\n",
      "{'original': False, 'pca': True, 'ica': False, 'dwt': False, 'onevall_csp': False, 'pairwise_csp': False}\n",
      "---Working on principle Component Analysis---\n",
      "(1756, 1756) (480, 1756)\n"
     ]
    },
    {
     "name": "stderr",
     "output_type": "stream",
     "text": [
      "100%|██████████| 2500/2500 [10:37<00:00,  3.92it/s]\n"
     ]
    },
    {
     "data": {
      "image/png": "[encoded data removed]",
      "text/plain": [
       "<Figure size 640x480 with 1 Axes>"
      ]
     },
     "metadata": {},
     "output_type": "display_data"
    },
    {
     "name": "stdout",
     "output_type": "stream",
     "text": [
      "--------------------------------------------------\n",
      "Training Scores:\n",
      "\n",
      "Accuracy:  1.0\n",
      "Balanced Accuracy:  1.0\n",
      "Micro F1-Score:  1.0\n",
      "Macro F1-Score:  1.0\n",
      "\n",
      "\n",
      "Testing Scores:\n",
      "\n",
      "Accuracy:  0.31666666666666665\n",
      "Balanced Accuracy:  0.31666666666666665\n",
      "Micro F1-Score:  0.31666666666666665\n",
      "Macro F1-Score:  0.3158281961349397\n",
      "{'original': False, 'pca': False, 'ica': True, 'dwt': False, 'onevall_csp': False, 'pairwise_csp': False}\n",
      "---Working on Independent Component Analysis---\n",
      "(1756, 1756) (480, 1756)\n"
     ]
    },
    {
     "name": "stderr",
     "output_type": "stream",
     "text": [
      "100%|██████████| 2500/2500 [10:52<00:00,  3.83it/s]\n"
     ]
    },
    {
     "data": {
      "image/png": "[encoded data removed]",
      "text/plain": [
       "<Figure size 640x480 with 1 Axes>"
      ]
     },
     "metadata": {},
     "output_type": "display_data"
    },
    {
     "name": "stdout",
     "output_type": "stream",
     "text": [
      "--------------------------------------------------\n",
      "Training Scores:\n",
      "\n",
      "Accuracy:  1.0\n",
      "Balanced Accuracy:  1.0\n",
      "Micro F1-Score:  1.0\n",
      "Macro F1-Score:  1.0\n",
      "\n",
      "\n",
      "Testing Scores:\n",
      "\n",
      "Accuracy:  0.26458333333333334\n",
      "Balanced Accuracy:  0.26458333333333334\n",
      "Micro F1-Score:  0.26458333333333334\n",
      "Macro F1-Score:  0.1763436368699527\n",
      "{'original': False, 'pca': False, 'ica': True, 'dwt': False, 'onevall_csp': False, 'pairwise_csp': False}\n",
      "---Working on Independent Component Analysis---\n",
      "(1756, 1756) (480, 1756)\n"
     ]
    },
    {
     "name": "stderr",
     "output_type": "stream",
     "text": [
      "100%|██████████| 2500/2500 [10:58<00:00,  3.80it/s]\n"
     ]
    },
    {
     "data": {
      "image/png": "[encoded data removed]",
      "text/plain": [
       "<Figure size 640x480 with 1 Axes>"
      ]
     },
     "metadata": {},
     "output_type": "display_data"
    },
    {
     "name": "stdout",
     "output_type": "stream",
     "text": [
      "--------------------------------------------------\n",
      "Training Scores:\n",
      "\n",
      "Accuracy:  1.0\n",
      "Balanced Accuracy:  1.0\n",
      "Micro F1-Score:  1.0\n",
      "Macro F1-Score:  1.0\n",
      "\n",
      "\n",
      "Testing Scores:\n",
      "\n",
      "Accuracy:  0.26458333333333334\n",
      "Balanced Accuracy:  0.26458333333333334\n",
      "Micro F1-Score:  0.26458333333333334\n",
      "Macro F1-Score:  0.1763436368699527\n",
      "{'original': False, 'pca': False, 'ica': False, 'dwt': True, 'onevall_csp': False, 'pairwise_csp': False}\n",
      "---Working on Discrete Wavelet Transform---\n",
      "(1756, 33152) (480, 33152)\n"
     ]
    },
    {
     "name": "stderr",
     "output_type": "stream",
     "text": [
      "100%|██████████| 2500/2500 [3:34:55<00:00,  5.16s/it]\n"
     ]
    },
    {
     "data": {
      "image/png": "[encoded data removed]",
      "text/plain": [
       "<Figure size 640x480 with 1 Axes>"
      ]
     },
     "metadata": {},
     "output_type": "display_data"
    },
    {
     "name": "stdout",
     "output_type": "stream",
     "text": [
      "--------------------------------------------------\n",
      "Training Scores:\n",
      "\n",
      "Accuracy:  1.0\n",
      "Balanced Accuracy:  1.0\n",
      "Micro F1-Score:  1.0\n",
      "Macro F1-Score:  1.0\n",
      "\n",
      "\n",
      "Testing Scores:\n",
      "\n",
      "Accuracy:  0.32083333333333336\n",
      "Balanced Accuracy:  0.3208333333333333\n",
      "Micro F1-Score:  0.32083333333333336\n",
      "Macro F1-Score:  0.32015650116802247\n",
      "{'original': False, 'pca': False, 'ica': False, 'dwt': True, 'onevall_csp': False, 'pairwise_csp': False}\n",
      "---Working on Discrete Wavelet Transform---\n",
      "(1756, 33152) (480, 33152)\n"
     ]
    },
    {
     "name": "stderr",
     "output_type": "stream",
     "text": [
      "100%|██████████| 2500/2500 [3:30:48<00:00,  5.06s/it]\n"
     ]
    },
    {
     "data": {
      "image/png": "[encoded data removed]",
      "text/plain": [
       "<Figure size 640x480 with 1 Axes>"
      ]
     },
     "metadata": {},
     "output_type": "display_data"
    },
    {
     "name": "stdout",
     "output_type": "stream",
     "text": [
      "--------------------------------------------------\n",
      "Training Scores:\n",
      "\n",
      "Accuracy:  1.0\n",
      "Balanced Accuracy:  1.0\n",
      "Micro F1-Score:  1.0\n",
      "Macro F1-Score:  1.0\n",
      "\n",
      "\n",
      "Testing Scores:\n",
      "\n",
      "Accuracy:  0.31875\n",
      "Balanced Accuracy:  0.31875\n",
      "Micro F1-Score:  0.31875\n",
      "Macro F1-Score:  0.3188901020964643\n",
      "{'original': False, 'pca': False, 'ica': False, 'dwt': False, 'onevall_csp': True, 'pairwise_csp': False}\n",
      "---Working on Common Spatial Pattern One Vs All---\n",
      "(1756, 512) (480, 512)\n"
     ]
    },
    {
     "name": "stderr",
     "output_type": "stream",
     "text": [
      "100%|██████████| 2500/2500 [04:01<00:00, 10.34it/s]\n"
     ]
    },
    {
     "data": {
      "image/png": "[encoded data removed]",
      "text/plain": [
       "<Figure size 640x480 with 1 Axes>"
      ]
     },
     "metadata": {},
     "output_type": "display_data"
    },
    {
     "name": "stdout",
     "output_type": "stream",
     "text": [
      "--------------------------------------------------\n",
      "Training Scores:\n",
      "\n",
      "Accuracy:  1.0\n",
      "Balanced Accuracy:  1.0\n",
      "Micro F1-Score:  1.0\n",
      "Macro F1-Score:  1.0\n",
      "\n",
      "\n",
      "Testing Scores:\n",
      "\n",
      "Accuracy:  0.30833333333333335\n",
      "Balanced Accuracy:  0.30833333333333335\n",
      "Micro F1-Score:  0.30833333333333335\n",
      "Macro F1-Score:  0.30026724140421635\n",
      "{'original': False, 'pca': False, 'ica': False, 'dwt': False, 'onevall_csp': True, 'pairwise_csp': False}\n",
      "---Working on Common Spatial Pattern One Vs All---\n",
      "(1756, 512) (480, 512)\n"
     ]
    },
    {
     "name": "stderr",
     "output_type": "stream",
     "text": [
      "100%|██████████| 2500/2500 [03:49<00:00, 10.88it/s]\n"
     ]
    },
    {
     "data": {
      "image/png": "[encoded data removed]",
      "text/plain": [
       "<Figure size 640x480 with 1 Axes>"
      ]
     },
     "metadata": {},
     "output_type": "display_data"
    },
    {
     "name": "stdout",
     "output_type": "stream",
     "text": [
      "--------------------------------------------------\n",
      "Training Scores:\n",
      "\n",
      "Accuracy:  1.0\n",
      "Balanced Accuracy:  1.0\n",
      "Micro F1-Score:  1.0\n",
      "Macro F1-Score:  1.0\n",
      "\n",
      "\n",
      "Testing Scores:\n",
      "\n",
      "Accuracy:  0.30416666666666664\n",
      "Balanced Accuracy:  0.30416666666666664\n",
      "Micro F1-Score:  0.30416666666666664\n",
      "Macro F1-Score:  0.297984967691069\n",
      "{'original': False, 'pca': False, 'ica': False, 'dwt': False, 'onevall_csp': False, 'pairwise_csp': True}\n",
      "---Working on Common Spatial Pattern Pairwise---\n",
      "(1756, 768) (480, 768)\n"
     ]
    },
    {
     "name": "stderr",
     "output_type": "stream",
     "text": [
      "100%|██████████| 2500/2500 [05:03<00:00,  8.23it/s]\n"
     ]
    },
    {
     "data": {
      "image/png": "[encoded data removed]",
      "text/plain": [
       "<Figure size 640x480 with 1 Axes>"
      ]
     },
     "metadata": {},
     "output_type": "display_data"
    },
    {
     "name": "stdout",
     "output_type": "stream",
     "text": [
      "--------------------------------------------------\n",
      "Training Scores:\n",
      "\n",
      "Accuracy:  1.0\n",
      "Balanced Accuracy:  1.0\n",
      "Micro F1-Score:  1.0\n",
      "Macro F1-Score:  1.0\n",
      "\n",
      "\n",
      "Testing Scores:\n",
      "\n",
      "Accuracy:  0.30416666666666664\n",
      "Balanced Accuracy:  0.3041666666666667\n",
      "Micro F1-Score:  0.30416666666666664\n",
      "Macro F1-Score:  0.2909149401297776\n",
      "{'original': False, 'pca': False, 'ica': False, 'dwt': False, 'onevall_csp': False, 'pairwise_csp': True}\n",
      "---Working on Common Spatial Pattern Pairwise---\n",
      "(1756, 768) (480, 768)\n"
     ]
    },
    {
     "name": "stderr",
     "output_type": "stream",
     "text": [
      "100%|██████████| 2500/2500 [04:53<00:00,  8.53it/s]\n"
     ]
    },
    {
     "data": {
      "image/png": "[encoded data removed]",
      "text/plain": [
       "<Figure size 640x480 with 1 Axes>"
      ]
     },
     "metadata": {},
     "output_type": "display_data"
    },
    {
     "name": "stdout",
     "output_type": "stream",
     "text": [
      "--------------------------------------------------\n",
      "Training Scores:\n",
      "\n",
      "Accuracy:  1.0\n",
      "Balanced Accuracy:  1.0\n",
      "Micro F1-Score:  1.0\n",
      "Macro F1-Score:  1.0\n",
      "\n",
      "\n",
      "Testing Scores:\n",
      "\n",
      "Accuracy:  0.3020833333333333\n",
      "Balanced Accuracy:  0.30208333333333337\n",
      "Micro F1-Score:  0.3020833333333333\n",
      "Macro F1-Score:  0.29564908450279254\n"
     ]
    }
   ],
   "source": [
    "from sklearn.model_selection import GroupShuffleSplit\n",
    "from lazypredict.Supervised import LazyClassifier\n",
    "\n",
    "# Conditions to compared\n",
    "Conditions = [[\"Inner\"],[\"Inner\"],[\"Inner\"],[\"Inner\"]]\n",
    "# The class for the above condition\n",
    "Classes    = [  [\"Up\"] ,[\"Down\"], [\"Left\"] ,[\"Right\"] ]\n",
    "\n",
    "#@title Data extraction and processing\n",
    "\n",
    "X_all = []\n",
    "Y_all = []\n",
    "groups_all = []\n",
    "\n",
    "for i in range(1,11):\n",
    "    # Load all trials for a sigle subject\n",
    "    X, Y = extract_data_from_subject(root_dir, i, datatype)\n",
    "\n",
    "    # Cut usefull time. i.e action interval\n",
    "    X = select_time_window(X = X, t_start = t_start, t_end = t_end, fs = fs)\n",
    "\n",
    "    # Transform data and keep only the trials of interes\n",
    "    X , Y =  transform_for_classificator(X, Y, Classes, Conditions)\n",
    "    \n",
    "    X_all.append(X)\n",
    "    Y_all.append(Y)\n",
    "    print(len(Y))\n",
    "    groups_all.extend([i]*len(Y))\n",
    "    \n",
    "# Merge the numpy arrays across the first axis\n",
    "X = np.concatenate(X_all, axis=0)\n",
    "Y = np.concatenate(Y_all, axis=0)\n",
    "\n",
    "groups = np.array(groups_all)\n",
    "\n",
    "\n",
    "preprocessing_tester(X, Y, \"all_subj\")"
   ]
  },
  {
   "cell_type": "code",
   "execution_count": null,
   "id": "29a9a995",
   "metadata": {
    "papermill": {
     "duration": 1.564743,
     "end_time": "2024-06-15T22:32:09.821806",
     "exception": false,
     "start_time": "2024-06-15T22:32:08.257063",
     "status": "completed"
    },
    "tags": []
   },
   "outputs": [],
   "source": []
  },
  {
   "cell_type": "code",
   "execution_count": null,
   "id": "c9bede5e",
   "metadata": {
    "papermill": {
     "duration": 1.557419,
     "end_time": "2024-06-15T22:32:12.788200",
     "exception": false,
     "start_time": "2024-06-15T22:32:11.230781",
     "status": "completed"
    },
    "tags": []
   },
   "outputs": [],
   "source": []
  },
  {
   "cell_type": "code",
   "execution_count": null,
   "id": "d709e08e",
   "metadata": {
    "papermill": {
     "duration": 1.398336,
     "end_time": "2024-06-15T22:32:15.579895",
     "exception": false,
     "start_time": "2024-06-15T22:32:14.181559",
     "status": "completed"
    },
    "tags": []
   },
   "outputs": [],
   "source": []
  }
 ],
 "metadata": {
  "kaggle": {
   "accelerator": "none",
   "dataSources": [
    {
     "datasetId": 3862116,
     "sourceId": 6700641,
     "sourceType": "datasetVersion"
    }
   ],
   "dockerImageVersionId": 30558,
   "isGpuEnabled": false,
   "isInternetEnabled": true,
   "language": "python",
   "sourceType": "notebook"
  },
  "kernelspec": {
   "display_name": "Python 3",
   "language": "python",
   "name": "python3"
  },
  "language_info": {
   "codemirror_mode": {
    "name": "ipython",
    "version": 3
   },
   "file_extension": ".py",
   "mimetype": "text/x-python",
   "name": "python",
   "nbconvert_exporter": "python",
   "pygments_lexer": "ipython3",
   "version": "3.10.12"
  },
  "papermill": {
   "default_parameters": {},
   "duration": 32187.828271,
   "end_time": "2024-06-15T22:32:18.483562",
   "environment_variables": {},
   "exception": null,
   "input_path": "__notebook__.ipynb",
   "output_path": "__notebook__.ipynb",
   "parameters": {},
   "start_time": "2024-06-15T13:35:50.655291",
   "version": "2.4.0"
  }
 },
 "nbformat": 4,
 "nbformat_minor": 5
}
